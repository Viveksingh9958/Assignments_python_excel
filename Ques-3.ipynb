{
  "nbformat": 4,
  "nbformat_minor": 0,
  "metadata": {
    "colab": {
      "name": "Numpy_mathematical_operations.ipynb",
      "provenance": [],
      "collapsed_sections": []
    },
    "kernelspec": {
      "name": "python3",
      "display_name": "Python 3"
    },
    "language_info": {
      "name": "python"
    }
  },
  "cells": [
    {
      "cell_type": "code",
      "metadata": {
        "colab": {
          "base_uri": "https://localhost:8080/"
        },
        "id": "NyJ7thdOmZV2",
        "outputId": "338ee820-ed01-4159-99bf-936d44791baf"
      },
      "source": [
        "# Mathematical functions\n",
        "\n",
        "# Trigonometric functions\n",
        "import numpy as np\n",
        "import cmath\n",
        "x=np.array([1,8,3,9])\n",
        "print(x)\n",
        "print(np.sin(x))\n",
        "print(np.cos(x))\n",
        "print(np.cos(x))\n",
        "\n",
        "y=np.array([0.1,0.2,0.6,0.7])\n",
        "print(y)\n",
        "print(np.arccos(y))\n",
        "print(np.arcsin(y))\n",
        "print(np.arctan(y))"
      ],
      "execution_count": null,
      "outputs": [
        {
          "output_type": "stream",
          "text": [
            "[1 8 3 9]\n",
            "[0.84147098 0.98935825 0.14112001 0.41211849]\n",
            "[ 0.54030231 -0.14550003 -0.9899925  -0.91113026]\n",
            "[ 0.54030231 -0.14550003 -0.9899925  -0.91113026]\n",
            "[0.1 0.2 0.6 0.7]\n",
            "[1.47062891 1.36943841 0.92729522 0.79539883]\n",
            "[0.10016742 0.20135792 0.64350111 0.7753975 ]\n",
            "[0.09966865 0.19739556 0.5404195  0.61072596]\n"
          ],
          "name": "stdout"
        }
      ]
    },
    {
      "cell_type": "code",
      "metadata": {
        "colab": {
          "base_uri": "https://localhost:8080/"
        },
        "id": "Pt4WFw52oEBa",
        "outputId": "97ceaa78-5693-444b-aeac-ccfd4f540007"
      },
      "source": [
        "#Hyperbolic functions\n",
        "\n",
        "print(np.sinh(y))\n",
        "print(np.cosh(y))\n",
        "print(np.tanh(y))"
      ],
      "execution_count": null,
      "outputs": [
        {
          "output_type": "stream",
          "text": [
            "[0.10016675 0.201336   0.63665358 0.7585837 ]\n",
            "[1.00500417 1.02006676 1.18546522 1.25516901]\n",
            "[0.09966799 0.19737532 0.53704957 0.60436778]\n"
          ],
          "name": "stdout"
        }
      ]
    },
    {
      "cell_type": "code",
      "metadata": {
        "colab": {
          "base_uri": "https://localhost:8080/"
        },
        "id": "G-YhkX8eoddc",
        "outputId": "de51f15e-d2b1-47ad-aa9b-b6ec26baa614"
      },
      "source": [
        "#Rounding\n",
        "z=np.array([2.77,1.49,1.59,8.27])\n",
        "print(z)\n",
        "print(np.around(z))\n",
        "print(np.round(z))\n",
        "print(np.rint(z))\n",
        "print(np.fix(z))"
      ],
      "execution_count": null,
      "outputs": [
        {
          "output_type": "stream",
          "text": [
            "[2.77 1.49 1.59 8.27]\n",
            "[3. 1. 2. 8.]\n",
            "[3. 1. 2. 8.]\n",
            "[3. 1. 2. 8.]\n",
            "[2. 1. 1. 8.]\n"
          ],
          "name": "stdout"
        }
      ]
    },
    {
      "cell_type": "code",
      "metadata": {
        "colab": {
          "base_uri": "https://localhost:8080/"
        },
        "id": "LtvdZNI3rzYW",
        "outputId": "266dd217-dae9-4e3b-d214-b74a53bc8951"
      },
      "source": [
        "# Sums, products, differences\n",
        "u=np.array([1,2,3,4])\n",
        "print(np.prod(u))\n",
        "print(np.sum(u))\n",
        "print(np.nanprod(u))\n",
        "print(np.nansum(u))\n",
        "print(np.cumprod(u))\n",
        "print(np.cumsum(u))"
      ],
      "execution_count": null,
      "outputs": [
        {
          "output_type": "stream",
          "text": [
            "24\n",
            "10\n",
            "24\n",
            "10\n",
            "[ 1  2  6 24]\n",
            "[ 1  3  6 10]\n"
          ],
          "name": "stdout"
        }
      ]
    },
    {
      "cell_type": "code",
      "metadata": {
        "colab": {
          "base_uri": "https://localhost:8080/"
        },
        "id": "CL0j5FPZ25cp",
        "outputId": "4dc93ed3-67a0-4554-c98b-ba82c1872541"
      },
      "source": [
        "# Exponents and logarithms\n",
        "print(np.exp(u))\n",
        "print(np.expm1(u))\n",
        "print(np.exp2(u))\n",
        "print(np.log(u))\n",
        "print(np.log10(u))\n",
        "print(np.log2(u))"
      ],
      "execution_count": null,
      "outputs": [
        {
          "output_type": "stream",
          "text": [
            "[ 2.71828183  7.3890561  20.08553692 54.59815003]\n",
            "[ 1.71828183  6.3890561  19.08553692 53.59815003]\n",
            "[ 2.  4.  8. 16.]\n",
            "[0.         0.69314718 1.09861229 1.38629436]\n",
            "[0.         0.30103    0.47712125 0.60205999]\n",
            "[0.        1.        1.5849625 2.       ]\n"
          ],
          "name": "stdout"
        }
      ]
    },
    {
      "cell_type": "code",
      "metadata": {
        "colab": {
          "base_uri": "https://localhost:8080/"
        },
        "id": "xaaADjtt3jf7",
        "outputId": "8c514a23-6a50-4b96-ae6c-e3eca776cad1"
      },
      "source": [
        "# Other special functions\n",
        "print(np.i0(u))\n",
        "print(np.sinc(u))"
      ],
      "execution_count": null,
      "outputs": [
        {
          "output_type": "stream",
          "text": [
            "[ 1  2  4 11]\n",
            "[ 3.89817183e-17 -3.89817183e-17  3.89817183e-17 -3.89817183e-17]\n"
          ],
          "name": "stdout"
        }
      ]
    },
    {
      "cell_type": "code",
      "metadata": {
        "colab": {
          "base_uri": "https://localhost:8080/"
        },
        "id": "6vDkHcYk4HhK",
        "outputId": "db0dc0bf-be69-405b-a531-d63ce0f549a5"
      },
      "source": [
        "# Floating point routines\n",
        "v=np.array([-0.5,2,0.64,-5])\n",
        "print(v)\n",
        "print(np.signbit(v))\n",
        "print(np.copysign(v[0],v[1]))\n",
        "print(np.frexp(v[3]))\n"
      ],
      "execution_count": null,
      "outputs": [
        {
          "output_type": "stream",
          "text": [
            "[-0.5   2.    0.64 -5.  ]\n",
            "[ True False False  True]\n",
            "0.5\n",
            "(-0.625, 3)\n"
          ],
          "name": "stdout"
        }
      ]
    },
    {
      "cell_type": "code",
      "metadata": {
        "colab": {
          "base_uri": "https://localhost:8080/"
        },
        "id": "xK_PrDjI6xTU",
        "outputId": "168364ca-63a3-4ddd-d038-ac275da7b923"
      },
      "source": [
        "# Rational routines\n",
        "w=np.array([5,18])\n",
        "print(w)\n",
        "print(np.lcm(w[0],w[1]))\n",
        "print(np.gcd(w[0],w[1]))"
      ],
      "execution_count": null,
      "outputs": [
        {
          "output_type": "stream",
          "text": [
            "[ 5 18]\n",
            "90\n",
            "1\n"
          ],
          "name": "stdout"
        }
      ]
    },
    {
      "cell_type": "code",
      "metadata": {
        "colab": {
          "base_uri": "https://localhost:8080/"
        },
        "id": "YI_BlPaS8CsB",
        "outputId": "3b95ebbb-34fc-46a6-e978-2d9978222374"
      },
      "source": [
        "# Arithmetic operations\n",
        "print(np.add(w[0],w[1]))\n",
        "print(np.reciprocal(w))\n",
        "print(np.positive(w))\n",
        "print(np.negative(w))\n",
        "print(np.multiply(w[0],w[1]))\n",
        "print(np.divide(w[0],w[1]))\n",
        "print(np.power(w[0],w[1]))\n",
        "print(np.subtract(w[0],w[1]))"
      ],
      "execution_count": null,
      "outputs": [
        {
          "output_type": "stream",
          "text": [
            "23\n",
            "[0 0]\n",
            "[ 5 18]\n",
            "[ -5 -18]\n",
            "90\n",
            "0.2777777777777778\n",
            "3814697265625\n",
            "-13\n"
          ],
          "name": "stdout"
        }
      ]
    },
    {
      "cell_type": "code",
      "metadata": {
        "colab": {
          "base_uri": "https://localhost:8080/"
        },
        "id": "VLcark4M_X00",
        "outputId": "a88d52b4-d9f8-4e66-ebea-369cc3e0d71d"
      },
      "source": [
        "# Handling complex numbers\n",
        "s=complex(3,-4)\n",
        "print(np.real(s))\n",
        "print(np.imag(s))\n",
        "print(np.angle(s))\n"
      ],
      "execution_count": null,
      "outputs": [
        {
          "output_type": "stream",
          "text": [
            "3.0\n",
            "-4.0\n",
            "-0.9272952180016122\n"
          ],
          "name": "stdout"
        }
      ]
    },
    {
      "cell_type": "code",
      "metadata": {
        "colab": {
          "base_uri": "https://localhost:8080/"
        },
        "id": "ZKW6W1uLA8Ta",
        "outputId": "b61544f2-5c4d-4966-81f9-839b9a115826"
      },
      "source": [
        "# Miscellaneous\n",
        "print(np.convolve(2,w[0:2]))\n",
        "print(np.clip(2,w[0],w[1]))\n",
        "print(np.sqrt(w))\n",
        "print(np.cbrt(w))\n",
        "print(np.square(w))\n",
        "print(np.absolute(w))\n",
        "print(np.maximum(w[0],w[1]))"
      ],
      "execution_count": null,
      "outputs": [
        {
          "output_type": "stream",
          "text": [
            "[10 36]\n",
            "5\n",
            "[2.23606798 4.24264069]\n",
            "[1.70997595 2.62074139]\n",
            "[ 25 324]\n",
            "[ 5 18]\n",
            "18\n"
          ],
          "name": "stdout"
        }
      ]
    },
    {
      "cell_type": "code",
      "metadata": {
        "colab": {
          "base_uri": "https://localhost:8080/"
        },
        "id": "hIxqpJQYD6E5",
        "outputId": "0580ffc1-9df5-4859-da1c-3ad1adc0dea3"
      },
      "source": [
        "# Stacking\n",
        "# Vertical Stack\n",
        "# Depth Stack\n",
        "\n",
        "xx=np.arange(9).reshape(3,3)\n",
        "print(xx)\n",
        "yy=np.arange(5,14).reshape(3,3)\n",
        "print(yy)\n",
        "zz=np.vstack((xx,yy))  # Vertical Stack\n",
        "print(zz)\n",
        "ss=np.dstack((xx,yy))  # Depth stack\n",
        "print(ss)\n"
      ],
      "execution_count": null,
      "outputs": [
        {
          "output_type": "stream",
          "text": [
            "[[0 1 2]\n",
            " [3 4 5]\n",
            " [6 7 8]]\n",
            "[[ 5  6  7]\n",
            " [ 8  9 10]\n",
            " [11 12 13]]\n",
            "[[ 0  1  2]\n",
            " [ 3  4  5]\n",
            " [ 6  7  8]\n",
            " [ 5  6  7]\n",
            " [ 8  9 10]\n",
            " [11 12 13]]\n",
            "[[[ 0  5]\n",
            "  [ 1  6]\n",
            "  [ 2  7]]\n",
            "\n",
            " [[ 3  8]\n",
            "  [ 4  9]\n",
            "  [ 5 10]]\n",
            "\n",
            " [[ 6 11]\n",
            "  [ 7 12]\n",
            "  [ 8 13]]]\n"
          ],
          "name": "stdout"
        }
      ]
    }
  ]
}