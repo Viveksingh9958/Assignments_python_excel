{
  "nbformat": 4,
  "nbformat_minor": 0,
  "metadata": {
    "colab": {
      "name": "Linear_Regression.ipynb",
      "provenance": [],
      "collapsed_sections": []
    },
    "kernelspec": {
      "name": "python3",
      "display_name": "Python 3"
    },
    "language_info": {
      "name": "python"
    }
  },
  "cells": [
    {
      "cell_type": "code",
      "metadata": {
        "id": "wmlxE5cd0TJT"
      },
      "source": [
        "import numpy as np\n",
        "import seaborn as sns\n",
        "import matplotlib.pyplot as plt\n",
        "\n",
        "\n",
        "from sklearn.linear_model import LinearRegression"
      ],
      "execution_count": null,
      "outputs": []
    },
    {
      "cell_type": "code",
      "metadata": {
        "id": "_DtMdvX610bX"
      },
      "source": [
        "X=np.array([5,15,25,35,45,55]).reshape((-1,1))\n",
        "print(X)\n",
        "print(X.shape)   #print(np.shape(x))"
      ],
      "execution_count": null,
      "outputs": []
    },
    {
      "cell_type": "code",
      "metadata": {
        "id": "bOREmzi-25bU"
      },
      "source": [
        "y=np.array([5,20,14,32,22,38])\n",
        "print(y)\n",
        "print(y.shape)"
      ],
      "execution_count": null,
      "outputs": []
    },
    {
      "cell_type": "code",
      "metadata": {
        "id": "Q6BlAZTU5DMU"
      },
      "source": [
        "model=LinearRegression()\n",
        "model.fit(X,y)"
      ],
      "execution_count": null,
      "outputs": []
    },
    {
      "cell_type": "code",
      "metadata": {
        "id": "yGICx78Q54EF"
      },
      "source": [
        "R_square=model.score(X,y)\n",
        "print('Coefficient of error:', R_square)\n"
      ],
      "execution_count": null,
      "outputs": []
    },
    {
      "cell_type": "code",
      "metadata": {
        "id": "_uEOhrZ36-x5"
      },
      "source": [
        "print('parameter: theta0',model.intercept_)\n",
        "print('parameter: theta1',model.coef_)"
      ],
      "execution_count": null,
      "outputs": []
    },
    {
      "cell_type": "code",
      "metadata": {
        "colab": {
          "base_uri": "https://localhost:8080/"
        },
        "id": "t4WCBEaa8J0c",
        "outputId": "ceb8e225-2177-47fd-b381-3926a4d7aead"
      },
      "source": [
        "test_x=np.array([13,10,5]).reshape((-1,1))\n",
        "y_pred=model.predict(test_x)\n",
        "print('predicted Values:', y_pred, sep='\\n')"
      ],
      "execution_count": null,
      "outputs": [
        {
          "output_type": "stream",
          "text": [
            "predicted Values:\n",
            "[12.65333333 11.03333333  8.33333333]\n"
          ],
          "name": "stdout"
        }
      ]
    },
    {
      "cell_type": "code",
      "metadata": {
        "colab": {
          "base_uri": "https://localhost:8080/"
        },
        "id": "3FJ7OPgh8oge",
        "outputId": "a3903069-9ce9-4052-a945-e133fa5cbac4"
      },
      "source": [
        "Area_x=np.array([7420,8960,9960,7500,7420,7500,8580,16200,8100,5750,13200,6000,6550,3500,\n",
        "7800,6000,6600,8500,4600,6420,4320,7155,8050,4560,8800,\n",
        "6540,6000,8875,7950,5500,7475,7000,4880,5960,6840,7000,7482,9000,\n",
        "6000,6000,6550,6360,6480,6000,6000,6000,6000,6600,4300,\n",
        "7440,7440,6325,6000,5150,6000,6000,11440,9000,7680,6000,6000,8880,6240,6360,\n",
        "11175,8880,13200,7700,6000,12090,4000,6000,5020,6600,4040,4260,6420,6500,5700]).reshape((-1,1))\n",
        "print(Area_x)\n",
        "print(Area_x.shape)\n",
        "\n",
        "\n",
        "Price_y=np.array([13300000,12250000,12250000,12215000,11410000,10850000,10150000,10150000,9870000,\n",
        "9800000,9800000,9681000,9310000,9240000,9240000,9100000,9100000,8960000,\n",
        "8890000,8855000,8750000,8680000,8645000,8645000,8575000,8540000,\n",
        "8463000,8400000,8400000,8400000,8400000,8400000,8295000,8190000,\n",
        "8120000,8080940,8043000,7980000,7962500,7910000,\n",
        "7875000,7840000,7700000,7700000,7560000,7560000,7525000,7490000,\n",
        "7455000,7420000,7420000,7420000,7350000,7350000,7350000,7350000,\n",
        "7343000,7245000,7210000,7210000,7140000,7070000,7070000,7035000,\n",
        "7000000,6930000,6930000,6895000,6860000,6790000,6790000,6755000,\n",
        "6720000,6685000,6650000,6650000,6650000,6650000,6650000])\n",
        "print(Price_y)"
      ],
      "execution_count": null,
      "outputs": [
        {
          "output_type": "stream",
          "text": [
            "[[ 7420]\n",
            " [ 8960]\n",
            " [ 9960]\n",
            " [ 7500]\n",
            " [ 7420]\n",
            " [ 7500]\n",
            " [ 8580]\n",
            " [16200]\n",
            " [ 8100]\n",
            " [ 5750]\n",
            " [13200]\n",
            " [ 6000]\n",
            " [ 6550]\n",
            " [ 3500]\n",
            " [ 7800]\n",
            " [ 6000]\n",
            " [ 6600]\n",
            " [ 8500]\n",
            " [ 4600]\n",
            " [ 6420]\n",
            " [ 4320]\n",
            " [ 7155]\n",
            " [ 8050]\n",
            " [ 4560]\n",
            " [ 8800]\n",
            " [ 6540]\n",
            " [ 6000]\n",
            " [ 8875]\n",
            " [ 7950]\n",
            " [ 5500]\n",
            " [ 7475]\n",
            " [ 7000]\n",
            " [ 4880]\n",
            " [ 5960]\n",
            " [ 6840]\n",
            " [ 7000]\n",
            " [ 7482]\n",
            " [ 9000]\n",
            " [ 6000]\n",
            " [ 6000]\n",
            " [ 6550]\n",
            " [ 6360]\n",
            " [ 6480]\n",
            " [ 6000]\n",
            " [ 6000]\n",
            " [ 6000]\n",
            " [ 6000]\n",
            " [ 6600]\n",
            " [ 4300]\n",
            " [ 7440]\n",
            " [ 7440]\n",
            " [ 6325]\n",
            " [ 6000]\n",
            " [ 5150]\n",
            " [ 6000]\n",
            " [ 6000]\n",
            " [11440]\n",
            " [ 9000]\n",
            " [ 7680]\n",
            " [ 6000]\n",
            " [ 6000]\n",
            " [ 8880]\n",
            " [ 6240]\n",
            " [ 6360]\n",
            " [11175]\n",
            " [ 8880]\n",
            " [13200]\n",
            " [ 7700]\n",
            " [ 6000]\n",
            " [12090]\n",
            " [ 4000]\n",
            " [ 6000]\n",
            " [ 5020]\n",
            " [ 6600]\n",
            " [ 4040]\n",
            " [ 4260]\n",
            " [ 6420]\n",
            " [ 6500]\n",
            " [ 5700]]\n",
            "(79, 1)\n",
            "[13300000 12250000 12250000 12215000 11410000 10850000 10150000 10150000\n",
            "  9870000  9800000  9800000  9681000  9310000  9240000  9240000  9100000\n",
            "  9100000  8960000  8890000  8855000  8750000  8680000  8645000  8645000\n",
            "  8575000  8540000  8463000  8400000  8400000  8400000  8400000  8400000\n",
            "  8295000  8190000  8120000  8080940  8043000  7980000  7962500  7910000\n",
            "  7875000  7840000  7700000  7700000  7560000  7560000  7525000  7490000\n",
            "  7455000  7420000  7420000  7420000  7350000  7350000  7350000  7350000\n",
            "  7343000  7245000  7210000  7210000  7140000  7070000  7070000  7035000\n",
            "  7000000  6930000  6930000  6895000  6860000  6790000  6790000  6755000\n",
            "  6720000  6685000  6650000  6650000  6650000  6650000  6650000]\n"
          ],
          "name": "stdout"
        }
      ]
    },
    {
      "cell_type": "code",
      "metadata": {
        "colab": {
          "base_uri": "https://localhost:8080/"
        },
        "id": "kQUEUEVH9Xkb",
        "outputId": "fdbf1624-9b48-47a8-cc13-4493b45c304a"
      },
      "source": [
        "model=LinearRegression()\n",
        "model.fit(Area_x,Price_y)"
      ],
      "execution_count": null,
      "outputs": [
        {
          "output_type": "execute_result",
          "data": {
            "text/plain": [
              "LinearRegression(copy_X=True, fit_intercept=True, n_jobs=None, normalize=False)"
            ]
          },
          "metadata": {
            "tags": []
          },
          "execution_count": 21
        }
      ]
    },
    {
      "cell_type": "code",
      "metadata": {
        "colab": {
          "base_uri": "https://localhost:8080/"
        },
        "id": "68jRFaVl9oj0",
        "outputId": "59db8296-da7f-494a-adff-a978a43a4a6d"
      },
      "source": [
        "R_square=model.score(Area_x,Price_y)\n",
        "print('Coefficient of error:', R_square)"
      ],
      "execution_count": null,
      "outputs": [
        {
          "output_type": "stream",
          "text": [
            "Coefficient of error: 0.04566809799617888\n"
          ],
          "name": "stdout"
        }
      ]
    },
    {
      "cell_type": "code",
      "metadata": {
        "colab": {
          "base_uri": "https://localhost:8080/"
        },
        "id": "JvuImebz9ziM",
        "outputId": "087e96a5-d533-4003-991d-b6d3cb4a7754"
      },
      "source": [
        "print('parameter: theta0',model.intercept_)\n",
        "print('parameter: theta1',model.coef_)"
      ],
      "execution_count": null,
      "outputs": [
        {
          "output_type": "stream",
          "text": [
            "parameter: theta0 7226203.127906335\n",
            "parameter: theta1 [142.41991524]\n"
          ],
          "name": "stdout"
        }
      ]
    },
    {
      "cell_type": "code",
      "metadata": {
        "colab": {
          "base_uri": "https://localhost:8080/"
        },
        "id": "WxIaDUQZ95_5",
        "outputId": "aa4905f4-c400-4292-c92b-fb60327ac161"
      },
      "source": [
        "y_pred=model.predict(Area_x)\n",
        "print('predicted Values:', y_pred, sep='\\n')"
      ],
      "execution_count": null,
      "outputs": [
        {
          "output_type": "stream",
          "text": [
            "predicted Values:\n",
            "[8282958.89901495 8502285.56849032 8644705.48373407 8294352.49223445\n",
            " 8282958.89901495 8294352.49223445 8448166.00069769 9533405.75485505\n",
            " 8379804.44138069 8045117.64055789 9106146.00912381 8080722.61936882\n",
            " 8159053.57275288 7724672.83125945 8337078.46680757 8080722.61936882\n",
            " 8166174.56851507 8436772.40747819 7881334.73802758 8140538.9837712\n",
            " 7841457.16175933 8245217.62147535 8372683.44561851 7875637.94141783\n",
            " 8479498.38205132 8157629.37360045 8080722.61936882 8490179.8756946\n",
            " 8358441.45409413 8009512.66174695 8290791.99435335 8223142.53461257\n",
            " 7921212.31429582 8075025.82275907 8200355.34817357 8223142.53461257\n",
            " 8291788.93376006 8507982.36510007 8080722.61936882 8080722.61936882\n",
            " 8159053.57275288 8131993.78885657 8149084.17868582 8080722.61936882\n",
            " 8080722.61936882 8080722.61936882 8080722.61936882 8166174.56851507\n",
            " 7838608.76345445 8285807.29731982 8285807.29731982 8127009.09182304\n",
            " 8080722.61936882 7959665.69141164 8080722.61936882 8080722.61936882\n",
            " 8855486.95829481 8507982.36510007 8319988.07697832 8080722.61936882\n",
            " 8080722.61936882 8490891.97527082 8114903.39902732 8131993.78885657\n",
            " 8817745.68075522 8490891.97527082 9106146.00912381 8322836.47528319\n",
            " 8080722.61936882 8948059.90320325 7795882.78888133 8080722.61936882\n",
            " 7941151.10242995 8166174.56851507 7801579.58549108 7832911.9668447\n",
            " 8140538.9837712  8151932.5769907  8037996.6447957 ]\n"
          ],
          "name": "stdout"
        }
      ]
    },
    {
      "cell_type": "code",
      "metadata": {
        "colab": {
          "base_uri": "https://localhost:8080/",
          "height": 293
        },
        "id": "5cGcXHqs-BUz",
        "outputId": "8833a687-580b-41b6-89b4-5d6880ecbf53"
      },
      "source": [
        "plt.scatter(Area_x,Price_y)"
      ],
      "execution_count": null,
      "outputs": [
        {
          "output_type": "execute_result",
          "data": {
            "text/plain": [
              "<matplotlib.collections.PathCollection at 0x7fa56ac8ef90>"
            ]
          },
          "metadata": {
            "tags": []
          },
          "execution_count": 30
        },
        {
          "output_type": "display_data",
          "data": {
            "image/png": "[encoded data removed]",
            "text/plain": [
              "<Figure size 432x288 with 1 Axes>"
            ]
          },
          "metadata": {
            "tags": [],
            "needs_background": "light"
          }
        }
      ]
    },
    {
      "cell_type": "markdown",
      "metadata": {
        "id": "84Nv8qIMi_fX"
      },
      "source": [
        "# **Multiple Linear Regression**"
      ]
    },
    {
      "cell_type": "code",
      "metadata": {
        "id": "4IdfbE77A69Z"
      },
      "source": [
        "#Multiple linear regression\n",
        "\n",
        "x_multi=[[0,1],[5,1],[15,2],[25,5],[35,11],[45,11],[55,34],[60,35]]\n",
        "y=[4,5,20,14,32,22,38,43]\n",
        "\n",
        "x_multi,y=np.array(x_multi),np.array(y)"
      ],
      "execution_count": null,
      "outputs": []
    },
    {
      "cell_type": "code",
      "metadata": {
        "colab": {
          "base_uri": "https://localhost:8080/"
        },
        "id": "qrCksNQPCejv",
        "outputId": "806ccf22-1cfe-48e1-9564-72925c08f2d9"
      },
      "source": [
        "print(x_multi)\n",
        "print(y)"
      ],
      "execution_count": null,
      "outputs": [
        {
          "output_type": "stream",
          "text": [
            "[[ 0  1]\n",
            " [ 5  1]\n",
            " [15  2]\n",
            " [25  5]\n",
            " [35 11]\n",
            " [45 11]\n",
            " [55 34]\n",
            " [60 35]]\n",
            "[ 4  5 20 14 32 22 38 43]\n"
          ],
          "name": "stdout"
        }
      ]
    },
    {
      "cell_type": "code",
      "metadata": {
        "id": "EUsWE-RtCfPq"
      },
      "source": [
        "model=LinearRegression().fit(x_multi,y)"
      ],
      "execution_count": null,
      "outputs": []
    },
    {
      "cell_type": "code",
      "metadata": {
        "colab": {
          "base_uri": "https://localhost:8080/"
        },
        "id": "bmxPVqwVC2uv",
        "outputId": "97413bf8-32fb-4d9e-ad5b-be1c49626418"
      },
      "source": [
        "R_square=model.score(x_multi,y)\n",
        "print(R_square)"
      ],
      "execution_count": null,
      "outputs": [
        {
          "output_type": "stream",
          "text": [
            "0.8723165743397727\n"
          ],
          "name": "stdout"
        }
      ]
    },
    {
      "cell_type": "code",
      "metadata": {
        "colab": {
          "base_uri": "https://localhost:8080/"
        },
        "id": "lXGjF20JDGws",
        "outputId": "154a25e0-e823-4d44-bf8a-174f59759368"
      },
      "source": [
        "print('parameter: theta0',model.intercept_)\n",
        "print('parameter: theta1',model.coef_)"
      ],
      "execution_count": null,
      "outputs": [
        {
          "output_type": "stream",
          "text": [
            "parameter: theta0 5.852584471983899\n",
            "parameter: theta1 [0.40950111 0.32899057]\n"
          ],
          "name": "stdout"
        }
      ]
    },
    {
      "cell_type": "code",
      "metadata": {
        "id": "5u1hdBzQDM1c"
      },
      "source": [
        "x_test_multi=np.array([[1,2]])\n",
        "y_pred=model.predict(x_test_multi)"
      ],
      "execution_count": null,
      "outputs": []
    },
    {
      "cell_type": "code",
      "metadata": {
        "colab": {
          "base_uri": "https://localhost:8080/"
        },
        "id": "OJh8TI8QEVY5",
        "outputId": "cdbdabd6-28ee-4803-a3de-9e67602b4ae0"
      },
      "source": [
        "print(\"predicted value:\", y_pred)"
      ],
      "execution_count": null,
      "outputs": [
        {
          "output_type": "stream",
          "text": [
            "predicted value: [6.92006673]\n"
          ],
          "name": "stdout"
        }
      ]
    }
  ]
}